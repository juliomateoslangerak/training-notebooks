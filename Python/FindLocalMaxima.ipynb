{
 "cells": [
  {
   "cell_type": "markdown",
   "metadata": {
    "collapsed": true,
    "pycharm": {
     "name": "#%% md\n"
    }
   },
   "source": [
    "# Finding Centroids\n",
    "This notebook is a follow up of the notebook ilastik/pixels_classification_multiple_channels\n",
    "We segment our images using the probability images obtained by ilastik and find the centroids of our objects.\n",
    "TODO: describe the goal of the analysis"
   ]
  },
  {
   "cell_type": "markdown",
   "metadata": {},
   "source": [
    "## Prepare the analysis\n",
    "First of all, we need to import the libraries that we are going to use"
   ]
  },
  {
   "cell_type": "code",
   "execution_count": 1,
   "metadata": {
    "pycharm": {
     "is_executing": false,
     "name": "#%%\n"
    }
   },
   "outputs": [],
   "source": [
    "import numpy as np\n",
    "from Python import toolbox\n",
    "import ipywidgets as widgets\n",
    "from IPython.display import display\n",
    "import matplotlib.pyplot as plt\n",
    "from getpass import getuser, getpass"
   ]
  },
  {
   "cell_type": "markdown",
   "metadata": {},
   "source": [
    "And define a number of variables that we are going to use in the analysis"
   ]
  },
  {
   "cell_type": "code",
   "execution_count": 2,
   "metadata": {
    "pycharm": {
     "is_executing": false,
     "name": "#%%\n"
    }
   },
   "outputs": [],
   "source": [
    "RAW_DATASET_ID = 151\n",
    "PROBABILITIES_DATASET_ID = 301\n",
    "OMERO_SERVER = 'localhost'\n",
    "# RAW_DATASET_ID = 3248  # the ID if the dataset containing th raw images\n",
    "# PROBABILITIES_DATASET_ID = 3264  # the ID of the dataset containing the probability images obtained by ilastik\n",
    "# OMERO_SERVER = 'demo.openmicroscopy.org' # the URL of our OMERO server\n",
    "PORT = 4064  # the port to connect to. Default is 4046\n",
    "USER = input('Username: ')\n",
    "PASSWORD = getpass()\n",
    "GROUP = None  # the group where the data is stored"
   ]
  },
  {
   "cell_type": "markdown",
   "metadata": {},
   "source": [
    "## Explore your data\n",
    "Now we can connect to OMERO, get some information on the dataset that we want to analyze and explore the data.\n",
    "\n",
    "All the data is arranged in two datasets in the same project. One dataset contains the raw images and the other one \n",
    "contains the probability images extracted using Ilastik."
   ]
  },
  {
   "cell_type": "code",
   "execution_count": 3,
   "metadata": {
    "pycharm": {
     "is_executing": false,
     "name": "#%%\n"
    }
   },
   "outputs": [
    {
     "name": "stdout",
     "text": [
      "Connection successful: True\nRAW IMAGES\n20181012_S2Rplus_FISH_DAPI_X1-A488_X2-A555_X3-A647.lif [Mark_and_Find_001/Position001] Dimensions(z, c, t, x, y): 30, 4, 1, 1576, 1576\n20181012_S2Rplus_FISH_DAPI_X1-A488_X2-A555_X3-A647.lif [Mark_and_Find_001/Position002] Dimensions(z, c, t, x, y): 30, 4, 1, 1576, 1576\n20181012_S2Rplus_FISH_DAPI_X1-A488_X2-A555_X3-A647.lif [Mark_and_Find_001/Position003] Dimensions(z, c, t, x, y): 30, 4, 1, 1576, 1576\nPROBABILITY IMAGES\n20181012_S2Rplus_FISH_DAPI_X1-A488_X2-A555_X3-A647_Mark_and_Find_001_Position001_DAPI_Ch1_Probabilities.npy Dimensions(z, c, t, x, y): 30, 2, 1, 1576, 1576\n20181012_S2Rplus_FISH_DAPI_X1-A488_X2-A555_X3-A647_Mark_and_Find_001_Position001_DAPI_Ch2_Probabilities.npy Dimensions(z, c, t, x, y): 30, 2, 1, 1576, 1576\n20181012_S2Rplus_FISH_DAPI_X1-A488_X2-A555_X3-A647_Mark_and_Find_001_Position001_DAPI_Ch3_Probabilities.npy Dimensions(z, c, t, x, y): 30, 2, 1, 1576, 1576\n20181012_S2Rplus_FISH_DAPI_X1-A488_X2-A555_X3-A647_Mark_and_Find_001_Position001_DAPI_Probabilities.npy Dimensions(z, c, t, x, y): 30, 2, 1, 1576, 1576\n20181012_S2Rplus_FISH_DAPI_X1-A488_X2-A555_X3-A647_Mark_and_Find_001_Position002_DAPI_Ch1_Probabilities.npy Dimensions(z, c, t, x, y): 30, 2, 1, 1576, 1576\n20181012_S2Rplus_FISH_DAPI_X1-A488_X2-A555_X3-A647_Mark_and_Find_001_Position002_DAPI_Ch2_Probabilities.npy Dimensions(z, c, t, x, y): 30, 2, 1, 1576, 1576\n",
      "20181012_S2Rplus_FISH_DAPI_X1-A488_X2-A555_X3-A647_Mark_and_Find_001_Position002_DAPI_Ch3_Probabilities.npy Dimensions(z, c, t, x, y): 30, 2, 1, 1576, 1576\n20181012_S2Rplus_FISH_DAPI_X1-A488_X2-A555_X3-A647_Mark_and_Find_001_Position002_DAPI_Probabilities.npy Dimensions(z, c, t, x, y): 30, 2, 1, 1576, 1576\n20181012_S2Rplus_FISH_DAPI_X1-A488_X2-A555_X3-A647_Mark_and_Find_001_Position003_DAPI_Ch1_Probabilities.npy Dimensions(z, c, t, x, y): 30, 2, 1, 1576, 1576\n20181012_S2Rplus_FISH_DAPI_X1-A488_X2-A555_X3-A647_Mark_and_Find_001_Position003_DAPI_Ch2_Probabilities.npy Dimensions(z, c, t, x, y): 30, 2, 1, 1576, 1576\n20181012_S2Rplus_FISH_DAPI_X1-A488_X2-A555_X3-A647_Mark_and_Find_001_Position003_DAPI_Ch3_Probabilities.npy Dimensions(z, c, t, x, y): 30, 2, 1, 1576, 1576\n20181012_S2Rplus_FISH_DAPI_X1-A488_X2-A555_X3-A647_Mark_and_Find_001_Position003_DAPI_Probabilities.npy Dimensions(z, c, t, x, y): 30, 2, 1, 1576, 1576\n"
     ],
     "output_type": "stream"
    }
   ],
   "source": [
    "# Create a connection\n",
    "conn = toolbox.open_connection(username=USER, password=PASSWORD, group=GROUP,\n",
    "                               host=OMERO_SERVER, port=PORT)\n",
    "print(f'Connection successful: {conn.isConnected()}')\n",
    "\n",
    "# Get all the images contained in the raw dataset\n",
    "raw_dataset = toolbox.get_dataset(connection=conn, dataset_id=RAW_DATASET_ID)\n",
    "raw_images = toolbox.get_dataset_images(dataset=raw_dataset)\n",
    "raw_images = list(raw_images)\n",
    "\n",
    "# ... and in the probabilities dataset\n",
    "prob_dataset = toolbox.get_dataset(connection=conn, dataset_id=PROBABILITIES_DATASET_ID)\n",
    "prob_images = toolbox.get_dataset_images(dataset=prob_dataset)\n",
    "prob_images = list(prob_images)\n",
    "\n",
    "print('RAW IMAGES')\n",
    "for image in raw_images[:3]:\n",
    "    print(f'{image.getName()} Dimensions(z, c, t, x, y): {image.getSizeZ()}, {image.getSizeC()}, {image.getSizeT()}, {image.getSizeX()}, {image.getSizeY()}')\n",
    "\n",
    "print('PROBABILITY IMAGES')\n",
    "for image in prob_images[:12]:\n",
    "    print(f'{image.getName()} Dimensions(z, c, t, x, y): {image.getSizeZ()}, {image.getSizeC()}, {image.getSizeT()}, {image.getSizeX()}, {image.getSizeY()}')\n",
    "    "
   ]
  },
  {
   "cell_type": "markdown",
   "metadata": {},
   "source": [
    "You should see \n",
    "- a few of the raw images: 3-D stacks of 4 channels (DAPI, X1, X2 and X3) and\n",
    "- one probability image per each channel in the raw images : 3-D stacks of 2 channels representing the probability of being Foreground (channel 0) and the probability of being Background (channel 1)\n",
    "\n",
    "You may generate here a URL to access any of the images and have a look at them"
   ]
  },
  {
   "cell_type": "code",
   "execution_count": 4,
   "metadata": {
    "pycharm": {
     "is_executing": false,
     "name": "#%%\n"
    }
   },
   "outputs": [
    {
     "name": "stdout",
     "text": [
      "For the raw images go to:\nhttp://localhost:8080/webclient/img_detail/101/\nFor the probability images go to:\nhttp://localhost:8080/webclient/img_detail/254/\n"
     ],
     "output_type": "stream"
    }
   ],
   "source": [
    "print('For the raw images go to:')\n",
    "print(f'http://{OMERO_SERVER}:8080/webclient/img_detail/{raw_images[0].getId()}/')\n",
    "print('For the probability images go to:')\n",
    "print(f'http://{OMERO_SERVER}:8080/webclient/img_detail/{prob_images[0].getId()}/')"
   ]
  },
  {
   "cell_type": "markdown",
   "metadata": {},
   "source": [
    "### Exploring the raw values\n",
    "You may load an image as a numpy array ..."
   ]
  },
  {
   "cell_type": "code",
   "execution_count": 5,
   "metadata": {
    "pycharm": {
     "is_executing": false,
     "name": "#%%\n"
    }
   },
   "outputs": [],
   "source": [
    "raw_data = toolbox.get_5d_stack(raw_images[0])"
   ]
  },
  {
   "cell_type": "markdown",
   "metadata": {
    "pycharm": {
     "name": "#%% md\n"
    }
   },
   "source": [
    "... and see the raw values\n"
   ]
  },
  {
   "cell_type": "code",
   "execution_count": 7,
   "metadata": {
    "pycharm": {
     "is_executing": false,
     "name": "#%%\n"
    }
   },
   "outputs": [
    {
     "name": "stdout",
     "text": [
      "(30, 4, 1, 1576, 1576)\n"
     ],
     "output_type": "stream"
    }
   ],
   "source": [
    "# The dimensions are stored in the following order (z, c, t, x, y)\n",
    "print(raw_data.shape)"
   ]
  },
  {
   "cell_type": "code",
   "source": [
    "print(raw_data[14,          # z plane 15. Note that in 0 based indexing the 15th element is referred by 14\n",
    "               2,           # channel 3\n",
    "               0,           # time point 0\n",
    "               1100:1120,   # x pixels in the format from:until_but_excluded\n",
    "               90:100]      # for example from pixel 90 until pixel 100 (the pixel at position 100 is excluded)\n",
    "      )"
   ],
   "metadata": {
    "collapsed": false,
    "pycharm": {
     "name": "#%%\n",
     "is_executing": false
    }
   },
   "execution_count": 9,
   "outputs": [
    {
     "name": "stdout",
     "text": [
      "[[ 66  66 132 265  66 199  66 199 199  66]\n [  0   0   0 132 132  66 132 398 132  66]\n [ 66 265 132 132  66  66 132 132  66   0]\n [265 265  66  66 331 199  66  66  66  66]\n [199 132  66  66 265   0 132   0  66 199]\n [  0   0  66 265 132 199   0 199 199 199]\n [ 66 132 199 199 199 331 199 265 199 132]\n [199 265 132 265 265 132 199  66 132   0]\n [  0 132  66 132   0 265  66 132  66   0]\n [265 199  66   0  66  66 199 132 265   0]\n [  0 265  66 265 132 199 331 132  66 132]\n [132 331  66 265  66   0  66  66   0  66]\n [265   0 132  66 199 132  66  66   0  66]\n [ 66  66 199  66 132   0 199 132  66   0]\n [  0  66 132  66   0 265  66 132  66 132]\n [ 66  66  66  66 132   0  66 132  66   0]\n [ 66   0   0 199   0 132   0 265 199   0]\n [331   0   0  66   0   0   0  66 132   0]\n [ 66   0  66   0   0  66  66   0  66  66]\n [ 66   0 199   0   0 132   0   0   0  66]]\n"
     ],
     "output_type": "stream"
    }
   ]
  },
  {
   "cell_type": "markdown",
   "metadata": {},
   "source": [
    "This raw_data object is a **_Numpy ndarray_** (n-dimensional array). \n",
    "This is Python's way to work very efficient with image data.\n",
    "\n",
    "### Visualizing Numpy arrays\n",
    "You may have a more convenient visualization of these data by using any of the python plotting libraries.\n",
    "Python's standard library includes matplotlib. We imported previously *matplotlib.pyplot* as *plt* so let's use of it."
   ]
  },
  {
   "cell_type": "code",
   "execution_count": 19,
   "outputs": [
    {
     "data": {
      "text/plain": "<Figure size 432x288 with 1 Axes>",
      "image/png": "[encoded data removed]"
     },
     "metadata": {
      "needs_background": "light"
     },
     "output_type": "display_data"
    }
   ],
   "source": [
    "# We create a plot of a fraction of the image, the DAPI (0) channel for example in plane 10\n",
    "plt.imshow(raw_data[15, 0, 0, :, :])  # Observe the notation ':' for indexing. That means 'take everything'\n",
    "\n",
    "# Creating the plot just creates it but you always have to show it\n",
    "plt.show()"
   ],
   "metadata": {
    "collapsed": false,
    "pycharm": {
     "name": "#%%\n",
     "is_executing": false
    }
   }
  },
  {
   "cell_type": "markdown",
   "source": [
    "matplotlib may create very complex publication-ready plots. You may have a look at what you may do in [here](https://matplotlib.org/gallery.html).\n",
    "\n",
    "## Running the analysis\n",
    "Before moving further we have to arrange the images in the two lists so that every raw image has 4 probability images, one per channel."
   ],
   "metadata": {
    "collapsed": false,
    "pycharm": {
     "name": "#%% md\n"
    }
   }
  },
  {
   "cell_type": "code",
   "execution_count": 20,
   "metadata": {
    "pycharm": {
     "is_executing": false,
     "name": "#%%\n"
    }
   },
   "outputs": [],
   "source": [
    "# We are going to create a list of secondary lists where every secondary list \n",
    "# contains the probability images for one single raw image\n",
    "rearranged_prob_images = list()\n",
    "for raw_image in raw_images:  # We are looping through every raw image\n",
    "    name = raw_image.getName()\n",
    "    # We have to remove all the extra characters introduced by Leica. \n",
    "    # Not necessary in principle but as we did it for the probabilities we have to do it again\n",
    "    name = name.replace('/', '_')\n",
    "    name = name.replace('.lif [', '_')\n",
    "    name = name.replace(']', '')\n",
    "    \n",
    "    rearranged_prob_images.append(list())  # We append an empty secondary list\n",
    "    for subfix in ['DAPI_Probabilities',\n",
    "                   'DAPI_Ch1_Probabilities',\n",
    "                   'DAPI_Ch2_Probabilities',\n",
    "                   'DAPI_Ch3_Probabilities']:\n",
    "        for prob_image in prob_images:\n",
    "            if name in prob_image.getname() and subfix in prob_image.getname():\n",
    "                rearranged_prob_images[-1].append(prob_image)\n",
    "                \n",
    "# We don't need to keep two lists of probability images\n",
    "# so we just replace the old list with the new one\n",
    "prob_images = rearranged_prob_images"
   ]
  },
  {
   "cell_type": "markdown",
   "metadata": {},
   "source": [
    "Always good to double check..."
   ]
  },
  {
   "cell_type": "code",
   "execution_count": 21,
   "metadata": {
    "pycharm": {
     "is_executing": false,
     "name": "#%%\n"
    }
   },
   "outputs": [
    {
     "name": "stdout",
     "text": [
      "20181012_S2Rplus_FISH_DAPI_X1-A488_X2-A555_X3-A647.lif [Mark_and_Find_001/Position001]\n20181012_S2Rplus_FISH_DAPI_X1-A488_X2-A555_X3-A647_Mark_and_Find_001_Position001_DAPI_Probabilities.npy\n20181012_S2Rplus_FISH_DAPI_X1-A488_X2-A555_X3-A647_Mark_and_Find_001_Position001_DAPI_Ch1_Probabilities.npy\n20181012_S2Rplus_FISH_DAPI_X1-A488_X2-A555_X3-A647_Mark_and_Find_001_Position001_DAPI_Ch2_Probabilities.npy\n20181012_S2Rplus_FISH_DAPI_X1-A488_X2-A555_X3-A647_Mark_and_Find_001_Position001_DAPI_Ch3_Probabilities.npy\n20181012_S2Rplus_FISH_DAPI_X1-A488_X2-A555_X3-A647.lif [Mark_and_Find_001/Position002]\n20181012_S2Rplus_FISH_DAPI_X1-A488_X2-A555_X3-A647_Mark_and_Find_001_Position002_DAPI_Probabilities.npy\n20181012_S2Rplus_FISH_DAPI_X1-A488_X2-A555_X3-A647_Mark_and_Find_001_Position002_DAPI_Ch1_Probabilities.npy\n20181012_S2Rplus_FISH_DAPI_X1-A488_X2-A555_X3-A647_Mark_and_Find_001_Position002_DAPI_Ch2_Probabilities.npy\n20181012_S2Rplus_FISH_DAPI_X1-A488_X2-A555_X3-A647_Mark_and_Find_001_Position002_DAPI_Ch3_Probabilities.npy\n20181012_S2Rplus_FISH_DAPI_X1-A488_X2-A555_X3-A647.lif [Mark_and_Find_001/Position003]\n20181012_S2Rplus_FISH_DAPI_X1-A488_X2-A555_X3-A647_Mark_and_Find_001_Position003_DAPI_Probabilities.npy\n20181012_S2Rplus_FISH_DAPI_X1-A488_X2-A555_X3-A647_Mark_and_Find_001_Position003_DAPI_Ch1_Probabilities.npy\n20181012_S2Rplus_FISH_DAPI_X1-A488_X2-A555_X3-A647_Mark_and_Find_001_Position003_DAPI_Ch2_Probabilities.npy\n20181012_S2Rplus_FISH_DAPI_X1-A488_X2-A555_X3-A647_Mark_and_Find_001_Position003_DAPI_Ch3_Probabilities.npy\n20181012_S2Rplus_FISH_DAPI_X1-A488_X2-A555_X3-A647.lif [Mark_and_Find_001/Position004]\n20181012_S2Rplus_FISH_DAPI_X1-A488_X2-A555_X3-A647_Mark_and_Find_001_Position004_DAPI_Probabilities.npy\n20181012_S2Rplus_FISH_DAPI_X1-A488_X2-A555_X3-A647_Mark_and_Find_001_Position004_DAPI_Ch1_Probabilities.npy\n20181012_S2Rplus_FISH_DAPI_X1-A488_X2-A555_X3-A647_Mark_and_Find_001_Position004_DAPI_Ch2_Probabilities.npy\n20181012_S2Rplus_FISH_DAPI_X1-A488_X2-A555_X3-A647_Mark_and_Find_001_Position004_DAPI_Ch3_Probabilities.npy\n20181012_S2Rplus_FISH_DAPI_X1-A488_X2-A555_X3-A647.lif [Mark_and_Find_001/Position005]\n20181012_S2Rplus_FISH_DAPI_X1-A488_X2-A555_X3-A647_Mark_and_Find_001_Position005_DAPI_Probabilities.npy\n20181012_S2Rplus_FISH_DAPI_X1-A488_X2-A555_X3-A647_Mark_and_Find_001_Position005_DAPI_Ch1_Probabilities.npy\n20181012_S2Rplus_FISH_DAPI_X1-A488_X2-A555_X3-A647_Mark_and_Find_001_Position005_DAPI_Ch2_Probabilities.npy\n20181012_S2Rplus_FISH_DAPI_X1-A488_X2-A555_X3-A647_Mark_and_Find_001_Position005_DAPI_Ch3_Probabilities.npy\n"
     ],
     "output_type": "stream"
    }
   ],
   "source": [
    "for i in range(5):\n",
    "    print(raw_images[i].getName())\n",
    "    for p in prob_images[i]: print(p.getName())"
   ]
  },
  {
   "cell_type": "markdown",
   "metadata": {},
   "source": [
    "## Analyzing the images\n",
    "Now we have everything ready to start our image analysis. We want to:\n",
    "- Segment each channel using the probability values extracted by Ilastik in stead of the raw values.\n",
    "- Save that segmentation into OMERO.\n",
    "- While we still have the images in memory, we would like to calculate the centroids of the spots this time \n",
    "using the raw pixel values.\n",
    "- We will save the centroid coordinates as a table associated to every image.\n",
    "\n",
    "For most of the image analysis we are going to use scikit-image, a python iamge analysis library built on top of numpy."
   ]
  },
  {
   "cell_type": "code",
   "execution_count": null,
   "metadata": {
    "pycharm": {
     "is_executing": false,
     "name": "#%%\n"
    }
   },
   "outputs": [
    {
     "data": {
      "application/vnd.jupyter.widget-view+json": {
       "model_id": "4c8c33fe8d4e4d69bc19e7de51f47498",
       "version_major": 2,
       "version_minor": 0
      },
      "text/plain": [
       "IntProgress(value=0, description='Progress:', max=48)"
      ]
     },
     "metadata": {},
     "output_type": "display_data"
    }
   ],
   "source": [
    "# We create here a small widget to follow the progress\n",
    "progress = widgets.IntProgress(value=0, min=0, max=len(raw_images)*4, description='Progress:')\n",
    "display(progress)\n",
    "\n",
    "# We loop through every image in the raw images list\n",
    "for index, raw_image in enumerate(raw_images[:1]):\n",
    "    raw_data = toolbox.get_5d_stack(raw_image)  # We get the raw data. Order is zctxy\n",
    "    \n",
    "    # We now loop through every channel\n",
    "    for ch_nr, ch_prob_image in enumerate(prob_images[index]):\n",
    "        ch_prob_data = toolbox.get_5d_stack(ch_prob_image)\n",
    "        \n",
    "        labels = toolbox.segment_channel(channel=ch_prob_data[:,0,0,:,:].squeeze(),  # We only want to segment on the probability of being foreground\n",
    "                                         min_distance=1,\n",
    "                                         sigma=None,\n",
    "                                         method='hysteresis',\n",
    "                                         hysteresis_levels=(.5, .9))\n",
    "        \n",
    "        # the labels object contains now the segmentation masks for every found object\n",
    "        properties, positions = toolbox.compute_channel_spots_properties(raw_data[:,ch_nr,:,:,:].squeeze(),\n",
    "                                                                         labels)\n",
    "        \n",
    "        # Update the progress bar\n",
    "        progress.value = 1 + (index * ch_nr)"
   ]
  },
  {
   "cell_type": "code",
   "execution_count": 36,
   "metadata": {
    "pycharm": {
     "is_executing": false,
     "name": "#%%\n"
    }
   },
   "outputs": [],
   "source": [
    "conn.close()\n"
   ]
  }
 ],
 "metadata": {
  "kernelspec": {
   "display_name": "Python 3",
   "language": "python",
   "name": "python3"
  },
  "language_info": {
   "codemirror_mode": {
    "name": "ipython",
    "version": 3
   },
   "file_extension": ".py",
   "mimetype": "text/x-python",
   "name": "python",
   "nbconvert_exporter": "python",
   "pygments_lexer": "ipython3",
   "version": "3.7.5"
  },
  "pycharm": {
   "stem_cell": {
    "cell_type": "raw",
    "source": [],
    "metadata": {
     "collapsed": false
    }
   }
  }
 },
 "nbformat": 4,
 "nbformat_minor": 1
}