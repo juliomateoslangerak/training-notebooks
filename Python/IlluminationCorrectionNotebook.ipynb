{
 "cells": [
  {
   "cell_type": "markdown",
   "metadata": {},
   "source": [
    "### Import Packages"
   ]
  },
  {
   "cell_type": "code",
   "execution_count": null,
   "metadata": {},
   "outputs": [],
   "source": [
    "from omero.gateway import BlitzGateway\n",
    "import matplotlib.pyplot as plt\n",
    "from skimage.morphology import disk, white_tophat\n",
    "\n",
    "from getpass import getpass"
   ]
  },
  {
   "cell_type": "markdown",
   "metadata": {},
   "source": [
    "### OMERO Credentials"
   ]
  },
  {
   "cell_type": "code",
   "execution_count": null,
   "metadata": {},
   "outputs": [],
   "source": [
    "HOST = 'workshop.openmicroscopy.org'\n",
    "PORT = 4064\n",
    "conn = BlitzGateway(raw_input(\"Username: \"), getpass(\"OMERO Password: \"), host=HOST, port=PORT)\n",
    "conn.connect()"
   ]
  },
  {
   "cell_type": "markdown",
   "metadata": {},
   "source": [
    "### OMERO Image ID"
   ]
  },
  {
   "cell_type": "code",
   "execution_count": null,
   "metadata": {},
   "outputs": [],
   "source": [
    "# To be modified\n",
    "# ex: Select an Image from the dataset named 'PTRE' and enter its Id\n",
    "image_id = 9397"
   ]
  },
  {
   "cell_type": "markdown",
   "metadata": {},
   "source": [
    "### Print Image Name"
   ]
  },
  {
   "cell_type": "code",
   "execution_count": null,
   "metadata": {},
   "outputs": [],
   "source": [
    "image = conn.getObject(\"Image\", image_id)\n",
    "print(image.getName(), image.getDescription())"
   ]
  },
  {
   "cell_type": "markdown",
   "metadata": {},
   "source": [
    "### Split channel view for an individual plane"
   ]
  },
  {
   "cell_type": "code",
   "execution_count": null,
   "metadata": {},
   "outputs": [],
   "source": [
    "%matplotlib inline\n",
    "pixels = image.getPrimaryPixels()\n",
    "channels = image.getChannels()\n",
    "plt.figure(figsize=(25, 20))\n",
    "size_c = image.getSizeC()\n",
    "for idx in range(0, size_c):\n",
    "    plt.subplot(1, 5, idx+1)\n",
    "    image_plane = pixels.getPlane(0, idx, 0)\n",
    "    plt.imshow(image_plane, cmap='gray')\n",
    "    plt.axis('off')\n",
    "    plt.title('Channel' + str(idx))"
   ]
  },
  {
   "cell_type": "markdown",
   "metadata": {},
   "source": [
    "### Tophat Filter and display the images"
   ]
  },
  {
   "cell_type": "code",
   "execution_count": null,
   "metadata": {},
   "outputs": [],
   "source": [
    "%matplotlib inline\n",
    "\n",
    "image_plane = pixels.getPlane(0, 1, 0)\n",
    "\n",
    "selem = disk(25)\n",
    "w_tophat = white_tophat(image_plane, selem)\n",
    "\n",
    "plt.figure(figsize=(25, 20))\n",
    "\n",
    "plt.subplot(1, 5, 1)\n",
    "plt.imshow(image_plane, cmap='gray')\n",
    "plt.axis('off')\n",
    "plt.title('Raw Image')\n",
    "\n",
    "plt.subplot(1, 5, 2)\n",
    "plt.imshow(w_tophat, cmap='gray')\n",
    "plt.axis('off')\n",
    "plt.title('Top-Hat Filtered Image')"
   ]
  },
  {
   "cell_type": "markdown",
   "metadata": {},
   "source": [
    "<br>\n",
    "#### When you are completely finished running the notebook close the connection to OMERO server"
   ]
  },
  {
   "cell_type": "code",
   "execution_count": null,
   "metadata": {},
   "outputs": [],
   "source": [
    "conn.close()"
   ]
  }
 ],
 "metadata": {
  "kernelspec": {
   "display_name": "OMERO Python 2",
   "language": "python",
   "name": "python2"
  },
  "language_info": {
   "codemirror_mode": {
    "name": "ipython",
    "version": 2
   },
   "file_extension": ".py",
   "mimetype": "text/x-python",
   "name": "python",
   "nbconvert_exporter": "python",
   "pygments_lexer": "ipython2",
   "version": "2.7.14"
  }
 },
 "nbformat": 4,
 "nbformat_minor": 2
}
