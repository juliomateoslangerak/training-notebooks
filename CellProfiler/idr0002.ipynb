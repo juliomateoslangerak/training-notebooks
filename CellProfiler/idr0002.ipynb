{
 "cells": [
  {
   "cell_type": "markdown",
   "metadata": {},
   "source": [
    "# Cell/particle Counting and scoring stained objects"
   ]
  },
  {
   "cell_type": "markdown",
   "metadata": {},
   "source": [
    "This notebook demonstrates how to process using\n",
    "[CellProfiler](http://cellprofiler.org/) plates\n",
    "associated to the paper\n",
    "*Integration of biological data by kernels on graph nodes allows prediction\n",
    "of new genes involved in mitotic chromosome condensation.*\n",
    "See http://dx.doi.org/10.1091/mbc.E13-04-0221.\n",
    "We use the example pipeline\n",
    "*Cell/particle counting, and scoring the percentage of stained objects*\n",
    "see http://cellprofiler.org/examples/#PercentPositive.\n",
    "This pipeline is for two channels images."
   ]
  },
  {
   "cell_type": "markdown",
   "metadata": {},
   "source": [
    "### Import Packages"
   ]
  },
  {
   "cell_type": "code",
   "execution_count": null,
   "metadata": {},
   "outputs": [],
   "source": [
    "# Import Cell Profiler Dependencies\n",
    "import cellprofiler.preferences as cpprefs\n",
    "import cellprofiler.pipeline as cpp\n",
    "\n",
    "# Inject Image module used to inject OMERO image planes into\n",
    "# Cell Profiler Pipeline\n",
    "from cellprofiler.modules.injectimage import InjectImage\n",
    "\n",
    "# Import OMERO Python BlitzGateway\n",
    "from omero.gateway import BlitzGateway\n",
    "from omero.grid import DoubleColumn, ImageColumn, LongColumn, WellColumn\n",
    "from omero.constants.namespaces import NSBULKANNOTATIONS\n",
    "from omero.gateway import FileAnnotationWrapper\n",
    "from omero.model import OriginalFileI\n",
    "\n",
    "# Import Python System Packages\n",
    "import os\n",
    "import tempfile\n",
    "import pandas\n",
    "import warnings\n",
    "\n",
    "# Import Matplotlib\n",
    "import matplotlib\n",
    "\n",
    "from getpass import getpass\n",
    "from os.path import expanduser\n",
    "cpprefs.set_headless()\n"
   ]
  },
  {
   "cell_type": "markdown",
   "metadata": {},
   "source": [
    "### Set Cell Output Directory"
   ]
  },
  {
   "cell_type": "code",
   "execution_count": null,
   "metadata": {},
   "outputs": [],
   "source": [
    "new_output_directory = os.path.normcase(tempfile.mkdtemp())\n",
    "cpprefs.set_default_output_directory(new_output_directory)"
   ]
  },
  {
   "cell_type": "markdown",
   "metadata": {},
   "source": [
    "### OMERO Credentials"
   ]
  },
  {
   "cell_type": "code",
   "execution_count": null,
   "metadata": {},
   "outputs": [],
   "source": [
    "HOST = 'workshop.openmicroscopy.org'\n",
    "PORT = 4064\n",
    "conn = BlitzGateway(input(\"Username: \"),\n",
    "                    getpass(\"OMERO Password: \"),\n",
    "                    host=HOST, port=PORT)\n",
    "conn.connect()"
   ]
  },
  {
   "cell_type": "markdown",
   "metadata": {},
   "source": [
    "### Fetch OMERO Plate that contains the Images to be analysed"
   ]
  },
  {
   "cell_type": "code",
   "execution_count": null,
   "metadata": {},
   "outputs": [],
   "source": [
    "# To be modified\n",
    "plate_id = 102\n",
    "plate = conn.getObject(\"Plate\", plate_id)\n",
    "print('Plate Name: ', plate.getName())"
   ]
  },
  {
   "cell_type": "code",
   "execution_count": null,
   "metadata": {},
   "outputs": [],
   "source": [
    "# Load pipeline and inspect modules\n",
    "home = expanduser(\"~\")\n",
    "pipeline = cpp.Pipeline()\n",
    "file = \"/notebooks/CellProfiler/pipelines/ExamplePercentPositive.cppipe\"\n",
    "pipeline.load(home+file)\n",
    "\n",
    "# Remove first 4 modules: Images, Metadata, NamesAndTypes, Groups...\n",
    "# (replaced by InjectImage module below)\n",
    "for i in range(4):\n",
    "    print('Remove module: ', pipeline.modules()[0].module_name)\n",
    "    pipeline.remove_module(1)\n",
    "\n",
    "print('Pipeline modules:')\n",
    "for module in pipeline.modules():\n",
    "    print(module.module_num, module.module_name)"
   ]
  },
  {
   "cell_type": "markdown",
   "metadata": {},
   "source": [
    "### Run Cell Profiler Pipeline on a plate"
   ]
  },
  {
   "cell_type": "code",
   "execution_count": null,
   "metadata": {},
   "outputs": [],
   "source": [
    "warnings.filterwarnings('ignore')\n",
    "\n",
    "Nuclei = pandas.DataFrame()\n",
    "files = list()\n",
    "\n",
    "# create list from generator\n",
    "wells = list(plate.listChildren())\n",
    "# use the first 5 wells only\n",
    "wells = wells[0:5]\n",
    "well_count = len(wells)\n",
    "\n",
    "for count, well in enumerate(wells):\n",
    "    print('Well: %s/%s' % (count + 1, well_count),\n",
    "          'row:', well.row, 'column:', well.column)\n",
    "    # Load a single Image per Well\n",
    "    image = well.getImage(0)\n",
    "    pixels = image.getPrimaryPixels()\n",
    "    size_c = image.getSizeC()\n",
    "    # For each Image in OMERO, we copy pipeline and inject image modules\n",
    "    pipeline_copy = pipeline.copy()\n",
    "    # Inject image for each Channel (pipeline only handles 2 channels)\n",
    "    for c in range(0, size_c):\n",
    "\n",
    "        plane = pixels.getPlane(0, c, 0)\n",
    "        image_name = image.getName()\n",
    "\n",
    "        # Name of the channel expected in the pipeline\n",
    "        if c == 0:\n",
    "            image_name = 'OrigBlue'\n",
    "        if c == 1:\n",
    "            image_name = 'OrigGreen'\n",
    "\n",
    "        inject_image_module = InjectImage(image_name, plane)\n",
    "        inject_image_module.set_module_num(1)\n",
    "        pipeline_copy.add_module(inject_image_module)\n",
    "\n",
    "    m = pipeline_copy.run()\n",
    "\n",
    "    # Results obtained as CSV from Cell Profiler\n",
    "    path = new_output_directory + '/Nuclei.csv'\n",
    "    f = pandas.read_csv(path, index_col=None, header=0)\n",
    "    f['Image'] = image.getId()\n",
    "    f['Well'] = well.getId()\n",
    "    f['Cell_Count'] = len(f.index)\n",
    "    files.append(f)\n",
    "\n",
    "Nuclei = pandas.concat(files, ignore_index=True)"
   ]
  },
  {
   "cell_type": "markdown",
   "metadata": {},
   "source": [
    "### Calculate statistics"
   ]
  },
  {
   "cell_type": "code",
   "execution_count": null,
   "metadata": {},
   "outputs": [],
   "source": [
    "Nuclei.describe()"
   ]
  },
  {
   "cell_type": "code",
   "execution_count": null,
   "metadata": {},
   "outputs": [],
   "source": [
    "matplotlib.rcParams['figure.figsize'] = (32.0, 30.0)\n",
    "# Drop few columns\n",
    "df = Nuclei.drop(['Image', 'ImageNumber', 'Well', 'ObjectNumber',\n",
    "                  'Number_Object_Number', 'Classify_PH3Neg',\n",
    "                  'Classify_PH3Pos'], axis=1)\n",
    "df.hist()"
   ]
  },
  {
   "cell_type": "markdown",
   "metadata": {},
   "source": [
    "### Save the ouput to OMERO as OMERO.table"
   ]
  },
  {
   "cell_type": "code",
   "execution_count": null,
   "metadata": {},
   "outputs": [],
   "source": [
    "cols = []\n",
    "summary = Nuclei.groupby('Image').mean()\n",
    "# Free memory\n",
    "del Nuclei\n",
    "for col in summary.columns:\n",
    "    if col == 'Image':\n",
    "        cols.append(ImageColumn(col, '', summary[col]))\n",
    "    elif col == 'Well':\n",
    "        cols.append(WellColumn(col, '', summary[col]))\n",
    "    elif summary[col].dtype == 'int64':\n",
    "        cols.append(LongColumn(col, '', summary[col]))\n",
    "    elif summary[col].dtype == 'float64':\n",
    "        cols.append(DoubleColumn(col, '', summary[col]))\n",
    "\n",
    "resources = conn.c.sf.sharedResources()\n",
    "repository_id = resources.repositories().descriptions[0].getId().getValue()\n",
    "table_name = \"idr0002_cellprofiler\"\n",
    "table = resources.newTable(repository_id, table_name)\n",
    "table.initialize(cols)\n",
    "table.addData(cols)\n",
    "table.close()\n",
    "\n",
    "# Link the table to the plate\n",
    "orig_file = table.getOriginalFile()\n",
    "file_ann = FileAnnotationWrapper(conn)\n",
    "file_ann.setNs(NSBULKANNOTATIONS)\n",
    "file_ann._obj.file = OriginalFileI(orig_file.id.val, False)\n",
    "file_ann.save()\n",
    "plate.linkAnnotation(file_ann)"
   ]
  },
  {
   "cell_type": "markdown",
   "metadata": {},
   "source": [
    "### Close the connection to the OMERO server"
   ]
  },
  {
   "cell_type": "code",
   "execution_count": null,
   "metadata": {},
   "outputs": [],
   "source": [
    "conn.close()"
   ]
  },
  {
   "cell_type": "markdown",
   "metadata": {
    "collapsed": true
   },
   "source": [
    "### License\n",
    "Copyright (C) 2019 University of Dundee. All Rights Reserved.\n",
    "This program is free software; you can redistribute it and/or modify it\n",
    "under the terms of the GNU General Public License as published by the\n",
    "Free Software Foundation; either version 2 of the License, or\n",
    "(at your option) any later version.\n",
    "This program is distributed in the hope that it will be useful, but\n",
    "WITHOUT ANY WARRANTY; without even the implied warranty of MERCHANTABILITY\n",
    "or FITNESS FOR A PARTICULAR PURPOSE. See the GNU General Public License for\n",
    "more details. You should have received a copy of the GNU General\n",
    "Public License along with this program; if not, write to the\n",
    "Free Software Foundation,\n",
    "Inc., 51 Franklin Street, Fifth Floor, Boston, MA 02110-1301 USA."
   ]
  }
 ],
 "metadata": {
  "kernelspec": {
   "display_name": "OMERO Python 3",
   "language": "python",
   "name": "python3"
  },
  "language_info": {
   "codemirror_mode": {
    "name": "ipython",
    "version": 2
   },
   "file_extension": ".py",
   "mimetype": "text/x-python",
   "name": "python",
   "nbconvert_exporter": "python",
   "pygments_lexer": "ipython2",
   "version": "2.7.14"
  }
 },
 "nbformat": 4,
 "nbformat_minor": 2
}
